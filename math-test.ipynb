{
 "cells": [
  {
   "cell_type": "markdown",
   "metadata": {},
   "source": [
    "# Gitとnotebookの連携による数式の練習\n",
    "こんな感じで数学についてお話が出来ます。  \n",
    "$$\n",
    "\\sum_{n=1}^{\\infty} \\frac{1}{n^2} = \\frac{\\pi^2}{6}\n",
    "$$"
   ]
  },
  {
   "cell_type": "markdown",
   "metadata": {},
   "source": [
    "どんどんお話をしていきましょう。  \n",
    "例えば先程の方程式の例であれば\n",
    "\n",
    "### 問:次の方程式を解け\n",
    "$$ z^3=-i $$\n",
    "\n",
    "この問題の場合、まずはテキトウに代入してみます。  \n",
    "例えば$z=i$あたりがくさい感じがするのでまずは代入してみる。  \n",
    "$$ (i)^3=-i $$\n",
    "したがって$z=i$は方程式の求める根です。  \n",
    "すなわち因数定理によって\n",
    "$$ z^3+i = (z-i)(z^2+iz-1) $$\n",
    "と分解できます。\n",
    "これよりあとは$z^2+iz-1$を2次方程式の解を求めるように解けばよいです。  \n",
    "\n",
    "$$ \n",
    "\\begin{align}\n",
    "    z^2+iz-1 &= 0 \\\\\n",
    "    \\left( z+\\frac{i}{2} \\right)^2 &= 1 +(\\frac{i}{2})^2 \\\\\n",
    "                                   &= \\frac{3}{4} \\\\\n",
    "    \\therefore z = \\frac{i \\pm \\sqrt{3}}{2}\n",
    "\\end{align}\n",
    "$$\n",
    "\n",
    "これで求められました。"
   ]
  },
  {
   "cell_type": "code",
   "execution_count": 1,
   "metadata": {
    "collapsed": false
   },
   "outputs": [
    {
     "data": {
      "text/latex": [
       "\\begin{align}\n",
       "\\nabla \\times \\vec{\\mathbf{B}} -\\, \\frac1c\\, \\frac{\\partial\\vec{\\mathbf{E}}}{\\partial t} & = \\frac{4\\pi}{c}\\vec{\\mathbf{j}} \\\\\n",
       "\\nabla \\cdot \\vec{\\mathbf{E}} & = 4 \\pi \\rho \\\\\n",
       "\\nabla \\times \\vec{\\mathbf{E}}\\, +\\, \\frac1c\\, \\frac{\\partial\\vec{\\mathbf{B}}}{\\partial t} & = \\vec{\\mathbf{0}} \\\\\n",
       "\\nabla \\cdot \\vec{\\mathbf{B}} & = 0\n",
       "\\end{align}"
      ],
      "text/plain": [
       "<IPython.core.display.Latex object>"
      ]
     },
     "metadata": {},
     "output_type": "display_data"
    }
   ],
   "source": [
    "%%latex\n",
    "\\begin{align}\n",
    "\\nabla \\times \\vec{\\mathbf{B}} -\\, \\frac1c\\, \\frac{\\partial\\vec{\\mathbf{E}}}{\\partial t} & = \\frac{4\\pi}{c}\\vec{\\mathbf{j}} \\\\\n",
    "\\nabla \\cdot \\vec{\\mathbf{E}} & = 4 \\pi \\rho \\\\\n",
    "\\nabla \\times \\vec{\\mathbf{E}}\\, +\\, \\frac1c\\, \\frac{\\partial\\vec{\\mathbf{B}}}{\\partial t} & = \\vec{\\mathbf{0}} \\\\\n",
    "\\nabla \\cdot \\vec{\\mathbf{B}} & = 0\n",
    "\\end{align}"
   ]
  },
  {
   "cell_type": "markdown",
   "metadata": {},
   "source": [
    "## Frourier変換\n",
    "フーリエ変換の公式を列挙します。  \n",
    "\n",
    "$$\n",
    "\\mathcal{F}(\\omega) = \\int_{-\\infty}^{\\infty} f(t) \\exp(-j \\omega t) dt \\\\\n",
    "f(t) = \\frac{1}{2\\pi} \\int_{-\\infty}^{\\infty} \\mathcal{F}(\\omega) \\exp(j \\omega t) d\\omega\n",
    "$$\n",
    "\n",
    "これら変換、逆変換をまとめて**フーリエ変換対(Frourier Transform Pair)**と呼ぶ。  \n",
    "大変有用なので暗記に値する。"
   ]
  }
 ],
 "metadata": {
  "kernelspec": {
   "display_name": "Python 2",
   "language": "python",
   "name": "python2"
  },
  "language_info": {
   "codemirror_mode": {
    "name": "ipython",
    "version": 2
   },
   "file_extension": ".py",
   "mimetype": "text/x-python",
   "name": "python",
   "nbconvert_exporter": "python",
   "pygments_lexer": "ipython2",
   "version": "2.7.10"
  }
 },
 "nbformat": 4,
 "nbformat_minor": 0
}
